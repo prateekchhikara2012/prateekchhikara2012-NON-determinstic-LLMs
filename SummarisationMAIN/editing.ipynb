{
 "cells": [
  {
   "cell_type": "code",
   "execution_count": 9,
   "id": "0896bfb1",
   "metadata": {},
   "outputs": [],
   "source": [
    "import numpy as np\n",
    "import pandas as pd"
   ]
  },
  {
   "cell_type": "code",
   "execution_count": 10,
   "id": "f6e39362",
   "metadata": {},
   "outputs": [],
   "source": [
    "dataSet=pd.read_excel(\"/Users/prateekchhikara/Desktop/Summarisation MAIN/claude_50.xlsx\")"
   ]
  },
  {
   "cell_type": "code",
   "execution_count": 11,
   "id": "7e9da78d",
   "metadata": {},
   "outputs": [
    {
     "name": "stdout",
     "output_type": "stream",
     "text": [
      "    Unnamed: 0                                                  0  1  2  3  4  \\\n",
      "0            0  A guy touched her on her private parts in a sh...  1  1  1  1   \n",
      "1            1  Unknown number Trying to call me even after bl...  0  0  0  0   \n",
      "2            2  A Man is walking by a road in night & there wa...  0  0  0  0   \n",
      "3            3  I was outside s pub waiting for a friend, When...  0  0  0  0   \n",
      "4            4  My brother's friends gold chain was robbed and...  0  0  0  0   \n",
      "5            5  i went to majestic national market and i made ...  0  0  0  0   \n",
      "6            6  Guys I my college try to flirt with me but the...  1  1  1  1   \n",
      "7            7  When me and one of my friend were coming back ...  1  1  1  1   \n",
      "8            8                            Inappropriately staring  0  0  0  0   \n",
      "9            9            I was stalked by a strange looking man.  0  0  0  0   \n",
      "10          10     I was groped at New year's Eve in brigade road  1  1  1  1   \n",
      "11          11  I was being taken photos of in a pub by some b...  1  1  1  1   \n",
      "12          12  In my workplace ,one of my collegue sended a i...  1  1  1  1   \n",
      "13          13  when I was traveling to college in bus there w...  1  1  1  1   \n",
      "14          14  There are groups of youngsters on the streets ...  1  1  1  1   \n",
      "15          15   I have been followed by group of people everyday  0  0  0  0   \n",
      "16          16                        Eve teasing Bus eve teasing  0  0  0  0   \n",
      "17          17  I didn't know people were talking about me unt...  0  0  0  0   \n",
      "18          18  I was followed by a stranger and he started as...  1  1  1  1   \n",
      "19          19  Few months back i was waiting for my college b...  1  1  1  1   \n",
      "20          20  One day I was going to my relatives home. Some...  1  1  1  1   \n",
      "21          21  I was stared and a flashed at by a man in scoo...  1  1  1  1   \n",
      "22          22              Sexually molested at a very early age  0  0  0  0   \n",
      "23          23  a man of about 40 years old touched my arms wi...  1  1  1  1   \n",
      "24          24  Stalking Me and my friend were walking to her ...  1  1  1  1   \n",
      "25          25  I was walking from the Trinity Metro station i...  1  1  1  1   \n",
      "26          26  My friend had parked his cycle near the ground...  0  0  0  0   \n",
      "27          27  I was once having coffee with a friend of mine...  1  1  1  1   \n",
      "28          28                some one tried to click my pictures  0  0  0  0   \n",
      "29          29  my guy friend asked me to be his girlfriend an...  0  0  0  0   \n",
      "30          30  3 people on a scooty were following a girl and...  1  1  1  1   \n",
      "31          31  chain snatching. A guy tried to snatch my chai...  0  0  0  0   \n",
      "32          32  So I was walking down the road alone at around...  1  1  1  1   \n",
      "33          33  Me and my friends went for clubbing when I was...  1  1  1  1   \n",
      "34          34  I was in Bangalore and was outside a market fo...  1  1  1  1   \n",
      "35          35  I was travelling in Bangalore and I received s...  0  0  0  0   \n",
      "36          36                              Theft of mobile phone  0  0  0  0   \n",
      "37          37  i was walking to a grocery store when two boys...  1  1  1  1   \n",
      "38          38  I was walking around with a friend when a man ...  1  1  1  1   \n",
      "39          39                               Showing porn content  0  0  0  0   \n",
      "40          40  My friend kept staring me with wide eyes and m...  0  0  0  0   \n",
      "41          41  I used to live in a pg my warden molested me a...  0  0  0  0   \n",
      "42          42                  I was molested by friend of mine.  0  0  0  0   \n",
      "43          43  I was abused and scolded in bad words by some ...  0  0  0  0   \n",
      "44          44  I was walking back to my hostel alone which wa...  1  1  1  1   \n",
      "45          45  Quite a few times this incident has happened t...  1  1  1  1   \n",
      "46          46  it was my colleague who came to me and told me...  0  0  0  0   \n",
      "47          47  She was in relationship with some guy. Though ...  1  1  1  1   \n",
      "48          48                          I went groped in the lift  0  0  0  0   \n",
      "49          49  A guy was badly staring at me and my other fem...  0  0  0  0   \n",
      "\n",
      "    5  6  7  8  9  10  11  \n",
      "0   1  1  1  1  1   1  10  \n",
      "1   0  0  0  0  0   0   0  \n",
      "2   0  0  0  0  0   0   0  \n",
      "3   0  0  0  0  0   0   0  \n",
      "4   0  0  0  0  0   0   0  \n",
      "5   0  0  0  0  0   0   0  \n",
      "6   1  1  1  1  1   1  10  \n",
      "7   1  1  1  1  1   1  10  \n",
      "8   0  0  0  0  0   0   0  \n",
      "9   0  0  0  0  0   0   0  \n",
      "10  1  1  1  1  1   1  10  \n",
      "11  1  1  1  1  1   1  10  \n",
      "12  1  1  1  1  1   1  10  \n",
      "13  1  1  1  1  1   1  10  \n",
      "14  1  1  1  1  1   1  10  \n",
      "15  0  0  0  0  0   0   0  \n",
      "16  0  0  0  0  0   0   0  \n",
      "17  0  0  0  0  0   0   0  \n",
      "18  1  1  1  1  1   1  10  \n",
      "19  1  1  1  1  1   1  10  \n",
      "20  1  1  1  1  1   1  10  \n",
      "21  1  1  1  1  1   1  10  \n",
      "22  0  0  0  0  0   0   0  \n",
      "23  1  1  1  1  1   1  10  \n",
      "24  1  1  1  1  1   1  10  \n",
      "25  1  1  1  1  1   1  10  \n",
      "26  0  0  0  0  0   0   0  \n",
      "27  1  1  1  1  1   1  10  \n",
      "28  0  0  0  0  0   0   0  \n",
      "29  0  0  0  0  0   0   0  \n",
      "30  1  1  1  1  1   1  10  \n",
      "31  0  0  0  0  0   0   0  \n",
      "32  1  1  1  1  1   1  10  \n",
      "33  1  1  1  1  1   1  10  \n",
      "34  1  1  1  1  1   1  10  \n",
      "35  0  0  0  0  0   0   0  \n",
      "36  0  0  0  0  0   0   0  \n",
      "37  1  1  1  1  1   1  10  \n",
      "38  1  1  1  1  1   1  10  \n",
      "39  0  0  0  0  0   0   0  \n",
      "40  0  0  0  0  0   0   0  \n",
      "41  0  0  0  0  0   0   0  \n",
      "42  0  0  0  0  0   0   0  \n",
      "43  0  0  0  0  0   0   0  \n",
      "44  1  1  1  1  1   1  10  \n",
      "45  1  1  1  1  1   1  10  \n",
      "46  0  0  0  0  0   0   0  \n",
      "47  1  1  1  1  1   1  10  \n",
      "48  0  0  0  0  0   0   0  \n",
      "49  0  0  0  0  0   0   0  \n"
     ]
    }
   ],
   "source": [
    "print(dataSet)"
   ]
  },
  {
   "cell_type": "code",
   "execution_count": 12,
   "id": "a2b57089",
   "metadata": {},
   "outputs": [],
   "source": [
    "dataSet.to_excel('claude_50.xlsx')"
   ]
  },
  {
   "cell_type": "code",
   "execution_count": null,
   "id": "fa7e89c5",
   "metadata": {},
   "outputs": [],
   "source": []
  }
 ],
 "metadata": {
  "kernelspec": {
   "display_name": "Python 3",
   "language": "python",
   "name": "python3"
  },
  "language_info": {
   "codemirror_mode": {
    "name": "ipython",
    "version": 3
   },
   "file_extension": ".py",
   "mimetype": "text/x-python",
   "name": "python",
   "nbconvert_exporter": "python",
   "pygments_lexer": "ipython3",
   "version": "3.9.6"
  }
 },
 "nbformat": 4,
 "nbformat_minor": 5
}
